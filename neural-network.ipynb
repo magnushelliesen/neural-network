{
 "cells": [
  {
   "cell_type": "markdown",
   "metadata": {},
   "source": [
    "# Test of neural network\n",
    "By: Magnus Kvåle Helliesen"
   ]
  },
  {
   "cell_type": "code",
   "execution_count": 1,
   "metadata": {},
   "outputs": [],
   "source": [
    "import numpy as np\n",
    "from neural_network.neural_network import NeuralNetwork"
   ]
  },
  {
   "cell_type": "code",
   "execution_count": 2,
   "metadata": {},
   "outputs": [],
   "source": [
    "nn = NeuralNetwork(100, 100, 3, 2)"
   ]
  },
  {
   "cell_type": "code",
   "execution_count": 3,
   "metadata": {},
   "outputs": [],
   "source": [
    "random_array = -0.5+np.random.random(100)"
   ]
  },
  {
   "cell_type": "code",
   "execution_count": 4,
   "metadata": {},
   "outputs": [
    {
     "data": {
      "text/plain": [
       "array([0.5, 0.5])"
      ]
     },
     "execution_count": 4,
     "metadata": {},
     "output_type": "execute_result"
    }
   ],
   "source": [
    "nn.predict(random_array)"
   ]
  },
  {
   "cell_type": "code",
   "execution_count": 5,
   "metadata": {},
   "outputs": [],
   "source": [
    "nn.train(random_array, np.array([1, 0]))"
   ]
  },
  {
   "cell_type": "code",
   "execution_count": 6,
   "metadata": {},
   "outputs": [
    {
     "data": {
      "text/plain": [
       "array([0.96267311, 0.03732689])"
      ]
     },
     "execution_count": 6,
     "metadata": {},
     "output_type": "execute_result"
    }
   ],
   "source": [
    "nn.predict(random_array)"
   ]
  },
  {
   "cell_type": "code",
   "execution_count": 7,
   "metadata": {},
   "outputs": [
    {
     "data": {
      "text/plain": [
       "array([ 0.125, -0.125])"
      ]
     },
     "execution_count": 7,
     "metadata": {},
     "output_type": "execute_result"
    }
   ],
   "source": [
    "nn.b_o"
   ]
  },
  {
   "cell_type": "code",
   "execution_count": 8,
   "metadata": {},
   "outputs": [
    {
     "data": {
      "text/plain": [
       "array([[ 0.0625,  0.0625,  0.0625,  0.0625,  0.0625,  0.0625,  0.0625,\n",
       "         0.0625,  0.0625,  0.0625,  0.0625,  0.0625,  0.0625,  0.0625,\n",
       "         0.0625,  0.0625,  0.0625,  0.0625,  0.0625,  0.0625,  0.0625,\n",
       "         0.0625,  0.0625,  0.0625,  0.0625,  0.0625,  0.0625,  0.0625,\n",
       "         0.0625,  0.0625,  0.0625,  0.0625,  0.0625,  0.0625,  0.0625,\n",
       "         0.0625,  0.0625,  0.0625,  0.0625,  0.0625,  0.0625,  0.0625,\n",
       "         0.0625,  0.0625,  0.0625,  0.0625,  0.0625,  0.0625,  0.0625,\n",
       "         0.0625,  0.0625,  0.0625,  0.0625,  0.0625,  0.0625,  0.0625,\n",
       "         0.0625,  0.0625,  0.0625,  0.0625,  0.0625,  0.0625,  0.0625,\n",
       "         0.0625,  0.0625,  0.0625,  0.0625,  0.0625,  0.0625,  0.0625,\n",
       "         0.0625,  0.0625,  0.0625,  0.0625,  0.0625,  0.0625,  0.0625,\n",
       "         0.0625,  0.0625,  0.0625,  0.0625,  0.0625,  0.0625,  0.0625,\n",
       "         0.0625,  0.0625,  0.0625,  0.0625,  0.0625,  0.0625,  0.0625,\n",
       "         0.0625,  0.0625,  0.0625,  0.0625,  0.0625,  0.0625,  0.0625,\n",
       "         0.0625,  0.0625],\n",
       "       [-0.0625, -0.0625, -0.0625, -0.0625, -0.0625, -0.0625, -0.0625,\n",
       "        -0.0625, -0.0625, -0.0625, -0.0625, -0.0625, -0.0625, -0.0625,\n",
       "        -0.0625, -0.0625, -0.0625, -0.0625, -0.0625, -0.0625, -0.0625,\n",
       "        -0.0625, -0.0625, -0.0625, -0.0625, -0.0625, -0.0625, -0.0625,\n",
       "        -0.0625, -0.0625, -0.0625, -0.0625, -0.0625, -0.0625, -0.0625,\n",
       "        -0.0625, -0.0625, -0.0625, -0.0625, -0.0625, -0.0625, -0.0625,\n",
       "        -0.0625, -0.0625, -0.0625, -0.0625, -0.0625, -0.0625, -0.0625,\n",
       "        -0.0625, -0.0625, -0.0625, -0.0625, -0.0625, -0.0625, -0.0625,\n",
       "        -0.0625, -0.0625, -0.0625, -0.0625, -0.0625, -0.0625, -0.0625,\n",
       "        -0.0625, -0.0625, -0.0625, -0.0625, -0.0625, -0.0625, -0.0625,\n",
       "        -0.0625, -0.0625, -0.0625, -0.0625, -0.0625, -0.0625, -0.0625,\n",
       "        -0.0625, -0.0625, -0.0625, -0.0625, -0.0625, -0.0625, -0.0625,\n",
       "        -0.0625, -0.0625, -0.0625, -0.0625, -0.0625, -0.0625, -0.0625,\n",
       "        -0.0625, -0.0625, -0.0625, -0.0625, -0.0625, -0.0625, -0.0625,\n",
       "        -0.0625, -0.0625]])"
      ]
     },
     "execution_count": 8,
     "metadata": {},
     "output_type": "execute_result"
    }
   ],
   "source": [
    "nn.w_o"
   ]
  }
 ],
 "metadata": {
  "kernelspec": {
   "display_name": "magnus",
   "language": "python",
   "name": "python3"
  },
  "language_info": {
   "codemirror_mode": {
    "name": "ipython",
    "version": 3
   },
   "file_extension": ".py",
   "mimetype": "text/x-python",
   "name": "python",
   "nbconvert_exporter": "python",
   "pygments_lexer": "ipython3",
   "version": "3.9.16"
  }
 },
 "nbformat": 4,
 "nbformat_minor": 2
}
