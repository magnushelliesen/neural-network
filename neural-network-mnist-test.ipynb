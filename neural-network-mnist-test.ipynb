{
 "cells": [
  {
   "cell_type": "markdown",
   "metadata": {},
   "source": [
    "# Test of neural network on MNIST dataset\n",
    "By: Magnus Kvåle Helliesen"
   ]
  },
  {
   "cell_type": "code",
   "execution_count": 1,
   "metadata": {},
   "outputs": [],
   "source": [
    "import numpy as np\n",
    "import pandas as pd\n",
    "import matplotlib.pyplot as plt\n",
    "from neural_network.neural_network import NeuralNetwork"
   ]
  },
  {
   "cell_type": "markdown",
   "metadata": {},
   "source": [
    "## Setting up a random neural network"
   ]
  },
  {
   "cell_type": "code",
   "execution_count": 2,
   "metadata": {},
   "outputs": [],
   "source": [
    "# We set up a neural network with two hidden layers\n",
    "nn = NeuralNetwork(784, 100, 1, 10)"
   ]
  },
  {
   "cell_type": "markdown",
   "metadata": {},
   "source": [
    "## Importing MNIST dataset\n",
    "\n",
    "I've gotten the data from [https://git-disl.github.io/GTDLBench/datasets/mnist_datasets/](https://git-disl.github.io/GTDLBench/datasets/mnist_datasets/)."
   ]
  },
  {
   "cell_type": "code",
   "execution_count": 3,
   "metadata": {},
   "outputs": [],
   "source": [
    "# Importing data from csv\n",
    "df = pd.read_csv('mnist_data/mnist_train.csv', sep=',', header=None)"
   ]
  },
  {
   "cell_type": "code",
   "execution_count": 4,
   "metadata": {},
   "outputs": [
    {
     "data": {
      "image/png": "[encoded data removed]",
      "text/plain": [
       "<Figure size 250x250 with 1 Axes>"
      ]
     },
     "metadata": {},
     "output_type": "display_data"
    }
   ],
   "source": [
    "# Plotting some random number\n",
    "plt.figure(figsize=(2.5, 2.5))\n",
    "plt.imshow((255-df.loc[999, 1:]).to_numpy().reshape((28, 28)), cmap='gray')\n",
    "plt.xticks([])\n",
    "plt.yticks([])\n",
    "plt.show()"
   ]
  },
  {
   "cell_type": "code",
   "execution_count": 5,
   "metadata": {},
   "outputs": [],
   "source": [
    "# Storing the data as a list of tuples (slightly inefficient, but anyways)\n",
    "data = []\n",
    "for _, series in df.iterrows():\n",
    "    array = series.loc[1:].to_numpy()\n",
    "    array = (array-array.mean())/array.std()\n",
    "    data += [array, 1*np.array([series.loc[0] == i for i in range(10)])],"
   ]
  },
  {
   "cell_type": "code",
   "execution_count": 6,
   "metadata": {},
   "outputs": [
    {
     "data": {
      "image/png": "[encoded data removed]",
      "text/plain": [
       "<Figure size 750x750 with 1 Axes>"
      ]
     },
     "metadata": {},
     "output_type": "display_data"
    }
   ],
   "source": [
    "# Heatmap of weights between hidden layer before training\n",
    "plt.figure(figsize=(7.5, 7.5))\n",
    "plt.imshow(nn.weights0[1])\n",
    "plt.show()"
   ]
  },
  {
   "cell_type": "code",
   "execution_count": 7,
   "metadata": {},
   "outputs": [
    {
     "name": "stderr",
     "output_type": "stream",
     "text": [
      "/home/magnus/Python/neural-network/neural_network/neural_network.py:112: RuntimeWarning: overflow encountered in exp\n",
      "  return np.exp(x)/np.exp(x).sum()\n",
      "/home/magnus/Python/neural-network/neural_network/neural_network.py:112: RuntimeWarning: invalid value encountered in true_divide\n",
      "  return np.exp(x)/np.exp(x).sum()\n"
     ]
    },
    {
     "ename": "KeyboardInterrupt",
     "evalue": "",
     "output_type": "error",
     "traceback": [
      "\u001b[0;31m---------------------------------------------------------------------------\u001b[0m",
      "\u001b[0;31mKeyboardInterrupt\u001b[0m                         Traceback (most recent call last)",
      "\u001b[1;32m/home/magnus/Python/neural-network/neural-network-mnist-test.ipynb Cell 10\u001b[0m line \u001b[0;36m2\n\u001b[1;32m      <a href='vscode-notebook-cell:/home/magnus/Python/neural-network/neural-network-mnist-test.ipynb#X14sZmlsZQ%3D%3D?line=0'>1</a>\u001b[0m \u001b[39m# Learning from random gradient descent\u001b[39;00m\n\u001b[0;32m----> <a href='vscode-notebook-cell:/home/magnus/Python/neural-network/neural-network-mnist-test.ipynb#X14sZmlsZQ%3D%3D?line=1'>2</a>\u001b[0m nn\u001b[39m.\u001b[39;49mtrain(data, \u001b[39m50000\u001b[39;49m, \u001b[39m0.01\u001b[39;49m)\n",
      "File \u001b[0;32m~/Python/neural-network/neural_network/neural_network.py:159\u001b[0m, in \u001b[0;36mNeuralNetwork.train\u001b[0;34m(self, data, n, step)\u001b[0m\n\u001b[1;32m    157\u001b[0m random_data \u001b[39m=\u001b[39m choices(data, k\u001b[39m=\u001b[39mn)\n\u001b[1;32m    158\u001b[0m \u001b[39mfor\u001b[39;00m \u001b[39minput\u001b[39m, target \u001b[39min\u001b[39;00m random_data:\n\u001b[0;32m--> 159\u001b[0m     \u001b[39mself\u001b[39;49m\u001b[39m.\u001b[39;49mbackpropagation(\u001b[39minput\u001b[39;49m, target, step)\n",
      "File \u001b[0;32m~/Python/neural-network/neural_network/neural_network.py:167\u001b[0m, in \u001b[0;36mNeuralNetwork.backpropagation\u001b[0;34m(self, input, target, step)\u001b[0m\n\u001b[1;32m    162\u001b[0m \u001b[39mdef\u001b[39;00m \u001b[39mbackpropagation\u001b[39m(\u001b[39mself\u001b[39m, \u001b[39minput\u001b[39m, target, step\u001b[39m=\u001b[39m\u001b[39m0.1\u001b[39m):\n\u001b[1;32m    163\u001b[0m \u001b[39m    \u001b[39m\u001b[39m\"\"\"\u001b[39;00m\n\u001b[1;32m    164\u001b[0m \u001b[39m    Docstring will come\u001b[39;00m\n\u001b[1;32m    165\u001b[0m \u001b[39m    \"\"\"\u001b[39;00m\n\u001b[0;32m--> 167\u001b[0m     activations \u001b[39m=\u001b[39m \u001b[39mself\u001b[39;49m\u001b[39m.\u001b[39;49m_activations(\u001b[39minput\u001b[39;49m)\n\u001b[1;32m    169\u001b[0m     \u001b[39mfor\u001b[39;00m i \u001b[39min\u001b[39;00m \u001b[39mreversed\u001b[39m(\u001b[39mrange\u001b[39m(\u001b[39mself\u001b[39m\u001b[39m.\u001b[39mn_hidden\u001b[39m+\u001b[39m\u001b[39m1\u001b[39m)):\n\u001b[1;32m    170\u001b[0m         \u001b[39mif\u001b[39;00m i \u001b[39m==\u001b[39m \u001b[39mself\u001b[39m\u001b[39m.\u001b[39mn_hidden:\n",
      "File \u001b[0;32m~/Python/neural-network/neural_network/neural_network.py:133\u001b[0m, in \u001b[0;36mNeuralNetwork._activations\u001b[0;34m(self, input)\u001b[0m\n\u001b[1;32m    131\u001b[0m     x \u001b[39m=\u001b[39m \u001b[39mself\u001b[39m\u001b[39m.\u001b[39m_softmax(weights\u001b[39m.\u001b[39mdot(x)\u001b[39m+\u001b[39mbiases)\n\u001b[1;32m    132\u001b[0m \u001b[39melif\u001b[39;00m i \u001b[39m==\u001b[39m \u001b[39m0\u001b[39m:\n\u001b[0;32m--> 133\u001b[0m     x \u001b[39m=\u001b[39m \u001b[39mself\u001b[39m\u001b[39m.\u001b[39m_relu(weights\u001b[39m.\u001b[39;49mdot(x)\u001b[39m+\u001b[39mbiases)\n\u001b[1;32m    134\u001b[0m \u001b[39melse\u001b[39;00m:\n\u001b[1;32m    135\u001b[0m     x \u001b[39m=\u001b[39m \u001b[39mself\u001b[39m\u001b[39m.\u001b[39m_sigmoid(weights\u001b[39m.\u001b[39mdot(x)\u001b[39m+\u001b[39mbiases)\n",
      "\u001b[0;31mKeyboardInterrupt\u001b[0m: "
     ]
    }
   ],
   "source": [
    "# Learning from random gradient descent\n",
    "nn.train(data, 50000, 0.01)"
   ]
  },
  {
   "cell_type": "code",
   "execution_count": null,
   "metadata": {},
   "outputs": [
    {
     "data": {
      "image/png": "[encoded data removed]",
      "text/plain": [
       "<Figure size 640x480 with 1 Axes>"
      ]
     },
     "metadata": {},
     "output_type": "display_data"
    }
   ],
   "source": [
    "plt.figure()\n",
    "plt.bar(height=nn.predict(data[919][0]), x=[f'{i}' for i in range(10)], color='b')\n",
    "plt.title(f'{sum(i*x for i, x in enumerate(data[919][1]))}')\n",
    "plt.show()"
   ]
  },
  {
   "cell_type": "code",
   "execution_count": null,
   "metadata": {},
   "outputs": [
    {
     "data": {
      "image/png": "[encoded data removed]",
      "text/plain": [
       "<Figure size 250x250 with 1 Axes>"
      ]
     },
     "metadata": {},
     "output_type": "display_data"
    }
   ],
   "source": [
    "# Plotting some random number\n",
    "plt.figure(figsize=(2.5, 2.5))\n",
    "plt.imshow((255-data[919][0]).reshape((28, 28)), cmap='gray')\n",
    "plt.xticks([])\n",
    "plt.yticks([])\n",
    "plt.show()"
   ]
  },
  {
   "cell_type": "code",
   "execution_count": null,
   "metadata": {},
   "outputs": [
    {
     "data": {
      "image/png": "[encoded data removed]",
      "text/plain": [
       "<Figure size 750x750 with 1 Axes>"
      ]
     },
     "metadata": {},
     "output_type": "display_data"
    }
   ],
   "source": [
    "# Heatmap of weights between hidden layer after training\n",
    "plt.figure(figsize=(7.5, 7.5))\n",
    "plt.imshow(nn.weights[1])\n",
    "plt.show()"
   ]
  },
  {
   "cell_type": "code",
   "execution_count": null,
   "metadata": {},
   "outputs": [
    {
     "data": {
      "image/png": "[encoded data removed]",
      "text/plain": [
       "<Figure size 750x750 with 1 Axes>"
      ]
     },
     "metadata": {},
     "output_type": "display_data"
    }
   ],
   "source": [
    "# Heatmap of difference between weights between hidden layer before and after training\n",
    "plt.figure(figsize=(7.5, 7.5))\n",
    "plt.imshow(nn.delta_weights[1])\n",
    "plt.show()"
   ]
  }
 ],
 "metadata": {
  "kernelspec": {
   "display_name": "magnus",
   "language": "python",
   "name": "python3"
  },
  "language_info": {
   "codemirror_mode": {
    "name": "ipython",
    "version": 3
   },
   "file_extension": ".py",
   "mimetype": "text/x-python",
   "name": "python",
   "nbconvert_exporter": "python",
   "pygments_lexer": "ipython3",
   "version": "3.9.16"
  }
 },
 "nbformat": 4,
 "nbformat_minor": 2
}
